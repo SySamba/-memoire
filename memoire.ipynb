{
 "cells": [
  {
   "cell_type": "code",
   "execution_count": 5,
   "id": "86b18c7d-67b2-4687-b6c1-7eeb96a2be1c",
   "metadata": {},
   "outputs": [
    {
     "name": "stderr",
     "output_type": "stream",
     "text": [
      "[nltk_data] Downloading package punkt to\n",
      "[nltk_data]     C:\\Users\\HP\\AppData\\Roaming\\nltk_data...\n",
      "[nltk_data]   Package punkt is already up-to-date!\n",
      "[nltk_data] Downloading package stopwords to\n",
      "[nltk_data]     C:\\Users\\HP\\AppData\\Roaming\\nltk_data...\n",
      "[nltk_data]   Package stopwords is already up-to-date!\n"
     ]
    },
    {
     "name": "stdout",
     "output_type": "stream",
     "text": [
      "les donnee qui ne sont pas des fake news\n",
      "                                               title  \\\n",
      "0  As U.S. budget fight looms, Republicans flip t...   \n",
      "1  U.S. military to accept transgender recruits o...   \n",
      "2  Senior U.S. Republican senator: 'Let Mr. Muell...   \n",
      "3  FBI Russia probe helped by Australian diplomat...   \n",
      "4  Trump wants Postal Service to charge 'much mor...   \n",
      "\n",
      "                                                text       subject  \\\n",
      "0  WASHINGTON (Reuters) - The head of a conservat...  politicsNews   \n",
      "1  WASHINGTON (Reuters) - Transgender people will...  politicsNews   \n",
      "2  WASHINGTON (Reuters) - The special counsel inv...  politicsNews   \n",
      "3  WASHINGTON (Reuters) - Trump campaign adviser ...  politicsNews   \n",
      "4  SEATTLE/WASHINGTON (Reuters) - President Donal...  politicsNews   \n",
      "\n",
      "                 date  \n",
      "0  December 31, 2017   \n",
      "1  December 29, 2017   \n",
      "2  December 31, 2017   \n",
      "3  December 30, 2017   \n",
      "4  December 29, 2017   \n",
      "les donnee qui sont  des fake news\n",
      "                                               title  \\\n",
      "0   Donald Trump Sends Out Embarrassing New Year’...   \n",
      "1   Drunk Bragging Trump Staffer Started Russian ...   \n",
      "2   Sheriff David Clarke Becomes An Internet Joke...   \n",
      "3   Trump Is So Obsessed He Even Has Obama’s Name...   \n",
      "4   Pope Francis Just Called Out Donald Trump Dur...   \n",
      "\n",
      "                                                text subject  \\\n",
      "0  Donald Trump just couldn t wish all Americans ...    News   \n",
      "1  House Intelligence Committee Chairman Devin Nu...    News   \n",
      "2  On Friday, it was revealed that former Milwauk...    News   \n",
      "3  On Christmas day, Donald Trump announced that ...    News   \n",
      "4  Pope Francis used his annual Christmas Day mes...    News   \n",
      "\n",
      "                date  \n",
      "0  December 31, 2017  \n",
      "1  December 31, 2017  \n",
      "2  December 30, 2017  \n",
      "3  December 29, 2017  \n",
      "4  December 25, 2017  \n",
      "                                               title  \\\n",
      "0  As U.S. budget fight looms, Republicans flip t...   \n",
      "1  U.S. military to accept transgender recruits o...   \n",
      "2  Senior U.S. Republican senator: 'Let Mr. Muell...   \n",
      "3  FBI Russia probe helped by Australian diplomat...   \n",
      "4  Trump wants Postal Service to charge 'much mor...   \n",
      "\n",
      "                                                text       subject  \\\n",
      "0  WASHINGTON (Reuters) - The head of a conservat...  politicsNews   \n",
      "1  WASHINGTON (Reuters) - Transgender people will...  politicsNews   \n",
      "2  WASHINGTON (Reuters) - The special counsel inv...  politicsNews   \n",
      "3  WASHINGTON (Reuters) - Trump campaign adviser ...  politicsNews   \n",
      "4  SEATTLE/WASHINGTON (Reuters) - President Donal...  politicsNews   \n",
      "\n",
      "                 date  label  \n",
      "0  December 31, 2017       1  \n",
      "1  December 29, 2017       1  \n",
      "2  December 31, 2017       1  \n",
      "3  December 30, 2017       1  \n",
      "4  December 29, 2017       1  \n"
     ]
    }
   ],
   "source": [
    "import pandas as pd\n",
    "import numpy as np\n",
    "import nltk\n",
    "from nltk.corpus import stopwords\n",
    "from sklearn.feature_extraction.text import TfidfVectorizer\n",
    "from sklearn.model_selection import train_test_split\n",
    "from sklearn.naive_bayes import MultinomialNB\n",
    "from sklearn.tree import DecisionTreeClassifier\n",
    "from sklearn.linear_model import PassiveAggressiveClassifier, LogisticRegression\n",
    "from sklearn.ensemble import RandomForestClassifier\n",
    "from sklearn.metrics import accuracy_score, confusion_matrix, classification_report, precision_score, recall_score, f1_score\n",
    "\n",
    "nltk.download('punkt')\n",
    "nltk.download('stopwords')\n",
    "\n",
    "# Charger les jeux de données\n",
    "vrai_df = pd.read_csv('dataset/True.csv')\n",
    "faux_df = pd.read_csv('dataset/Fake.csv')\n",
    "\n",
    "print(\"les donnee qui ne sont pas des fake news\")\n",
    "print(vrai_df.head())\n",
    "\n",
    "print(\"les donnee qui sont  des fake news\")\n",
    "print(faux_df.head())\n",
    "\n",
    "# Ajouter des labels\n",
    "vrai_df['label'] = 1\n",
    "faux_df['label'] = 0\n",
    "\n",
    "# Concaténer les jeux de données\n",
    "data = pd.concat([vrai_df, faux_df])\n",
    "print(data.head())\n"
   ]
  },
  {
   "cell_type": "code",
   "execution_count": 7,
   "id": "3a83a2f4-4c20-4ac3-8b37-313feb9f3e52",
   "metadata": {},
   "outputs": [],
   "source": [
    "# Convertir le texte en minuscules et tokeniser\n",
    "data['text'] = data['text'].str.lower()\n",
    "data['title'] = data['title'].str.lower()\n",
    "data['text'] = data['text'].apply(nltk.word_tokenize)\n",
    "data['title'] = data['title'].apply(nltk.word_tokenize)\n",
    "\n",
    "# Supprimer les mots vides (stopwords)\n",
    "stop_words = set(stopwords.words('english'))\n",
    "data['text'] = data['text'].apply(lambda x: [mot for mot in x if mot not in stop_words])\n",
    "data['title'] = data['title'].apply(lambda x: [mot for mot in x if mot not in stop_words])"
   ]
  },
  {
   "cell_type": "code",
   "execution_count": 9,
   "id": "083ec566-c344-4312-b3bf-754542bda247",
   "metadata": {},
   "outputs": [],
   "source": [
    "# Initialiser le vectoriseur TF-IDF\n",
    "tfidf_vectorizer = TfidfVectorizer(max_features=5000)\n",
    "\n",
    "# Appliquer TF-IDF sur les textes\n",
    "text_tfidf = tfidf_vectorizer.fit_transform(data['text'].apply(lambda x: ' '.join(x)))\n",
    "title_tfidf = tfidf_vectorizer.transform(data['title'].apply(lambda x: ' '.join(x)))\n",
    "\n",
    "X = text_tfidf\n",
    "y = data['label']"
   ]
  },
  {
   "cell_type": "code",
   "execution_count": 11,
   "id": "213d6525-074a-4efc-9597-fd9050c97168",
   "metadata": {},
   "outputs": [
    {
     "name": "stdout",
     "output_type": "stream",
     "text": [
      "Forme de X_train : (35918, 5000)\n",
      "Forme de X_test : (8980, 5000)\n",
      "Forme de y_train : (35918,)\n",
      "Forme de y_test : (8980,)\n"
     ]
    }
   ],
   "source": [
    "X_train, X_test, y_train, y_test = train_test_split(X, y, test_size=0.2, random_state=42)\n",
    "\n",
    "# Afficher les formes des ensembles de données\n",
    "print(f\"Forme de X_train : {X_train.shape}\")\n",
    "print(f\"Forme de X_test : {X_test.shape}\")\n",
    "print(f\"Forme de y_train : {y_train.shape}\")\n",
    "print(f\"Forme de y_test : {y_test.shape}\")"
   ]
  },
  {
   "cell_type": "code",
   "execution_count": 13,
   "id": "b3e40c53-3e9a-4102-b6f7-a047a848d087",
   "metadata": {},
   "outputs": [],
   "source": [
    "#Naive Bayes Multinomial"
   ]
  },
  {
   "cell_type": "code",
   "execution_count": 15,
   "id": "c6810cf6-6c1d-42b6-9183-1ebc22cef70d",
   "metadata": {},
   "outputs": [
    {
     "name": "stdout",
     "output_type": "stream",
     "text": [
      "Précision du Naive Bayes : 0.94\n",
      "Matrice de confusion Naive Bayes :\n",
      "[[4410  240]\n",
      " [ 280 4050]]\n",
      "Rapport de classification Naive Bayes :\n",
      "              precision    recall  f1-score   support\n",
      "\n",
      "           0       0.94      0.95      0.94      4650\n",
      "           1       0.94      0.94      0.94      4330\n",
      "\n",
      "    accuracy                           0.94      8980\n",
      "   macro avg       0.94      0.94      0.94      8980\n",
      "weighted avg       0.94      0.94      0.94      8980\n",
      "\n"
     ]
    }
   ],
   "source": [
    "naive_bayes_model = MultinomialNB()\n",
    "naive_bayes_model.fit(X_train, y_train)\n",
    "\n",
    "y_pred = naive_bayes_model.predict(X_test)\n",
    "\n",
    "# Évaluation\n",
    "accuracy = accuracy_score(y_test, y_pred)\n",
    "confusion = confusion_matrix(y_test, y_pred)\n",
    "classification_rep = classification_report(y_test, y_pred)\n",
    "\n",
    "print(f\"Précision du Naive Bayes : {accuracy:.2f}\")\n",
    "print(\"Matrice de confusion Naive Bayes :\")\n",
    "print(confusion)\n",
    "print(\"Rapport de classification Naive Bayes :\")\n",
    "print(classification_rep)"
   ]
  },
  {
   "cell_type": "code",
   "execution_count": 17,
   "id": "2037a39b-a1b1-46cb-8f21-37025960a782",
   "metadata": {},
   "outputs": [],
   "source": [
    "#Arbre de Décision"
   ]
  },
  {
   "cell_type": "code",
   "execution_count": 19,
   "id": "36e0a3b1-3cd2-48e0-832c-34e1690b0fc5",
   "metadata": {},
   "outputs": [],
   "source": [
    "decision_tree = DecisionTreeClassifier()\n",
    "decision_tree.fit(X_train, y_train)\n",
    "\n",
    "def evaluate_decision_tree(model, X_test, y_test):\n",
    "    y_pred = model.predict(X_test)\n",
    "    accuracy = accuracy_score(y_test, y_pred)\n",
    "    confusion = confusion\n"
   ]
  },
  {
   "cell_type": "code",
   "execution_count": 20,
   "id": "53cd469f-a917-4b03-9ff5-444e967ac226",
   "metadata": {},
   "outputs": [
    {
     "name": "stdout",
     "output_type": "stream",
     "text": [
      "Précision de l'Arbre de Décision : 1.00\n",
      "Matrice de confusion Arbre de Décision :\n",
      "[[4639   11]\n",
      " [  12 4318]]\n",
      "Rapport de classification Arbre de Décision :\n",
      "              precision    recall  f1-score   support\n",
      "\n",
      "           0       1.00      1.00      1.00      4650\n",
      "           1       1.00      1.00      1.00      4330\n",
      "\n",
      "    accuracy                           1.00      8980\n",
      "   macro avg       1.00      1.00      1.00      8980\n",
      "weighted avg       1.00      1.00      1.00      8980\n",
      "\n"
     ]
    }
   ],
   "source": [
    "decision_tree = DecisionTreeClassifier()\n",
    "decision_tree.fit(X_train, y_train)\n",
    "\n",
    "def evaluate_decision_tree(model, X_test, y_test):\n",
    "    y_pred = model.predict(X_test)\n",
    "    accuracy = accuracy_score(y_test, y_pred)\n",
    "    confusion = confusion_matrix(y_test, y_pred)\n",
    "    classification_rep = classification_report(y_test, y_pred)\n",
    "    \n",
    "    return accuracy, confusion, classification_rep\n",
    "\n",
    "accuracy_tree, confusion_tree, classification_rep_tree = evaluate_decision_tree(decision_tree, X_test, y_test)\n",
    "\n",
    "print(f\"Précision de l'Arbre de Décision : {accuracy_tree:.2f}\")\n",
    "print(\"Matrice de confusion Arbre de Décision :\")\n",
    "print(confusion_tree)\n",
    "print(\"Rapport de classification Arbre de Décision :\")\n",
    "print(classification_rep_tree)"
   ]
  },
  {
   "cell_type": "code",
   "execution_count": 23,
   "id": "f6f4e7bc-37dc-4b12-b98b-9d3d11168760",
   "metadata": {},
   "outputs": [],
   "source": [
    "#Classificateur Passif-Agressif"
   ]
  },
  {
   "cell_type": "code",
   "execution_count": 25,
   "id": "cdf79535-e990-486c-ad41-6491960e0eda",
   "metadata": {},
   "outputs": [
    {
     "name": "stdout",
     "output_type": "stream",
     "text": [
      "Précision du Classificateur Passif-Agressif : 1.00\n",
      "Matrice de confusion Classificateur Passif-Agressif :\n",
      "[[4633   17]\n",
      " [  11 4319]]\n",
      "Rapport de classification Classificateur Passif-Agressif :\n",
      "              precision    recall  f1-score   support\n",
      "\n",
      "           0       1.00      1.00      1.00      4650\n",
      "           1       1.00      1.00      1.00      4330\n",
      "\n",
      "    accuracy                           1.00      8980\n",
      "   macro avg       1.00      1.00      1.00      8980\n",
      "weighted avg       1.00      1.00      1.00      8980\n",
      "\n"
     ]
    }
   ],
   "source": [
    "passive_aggressive = PassiveAggressiveClassifier()\n",
    "passive_aggressive.fit(X_train, y_train)\n",
    "\n",
    "y_pred = passive_aggressive.predict(X_test)\n",
    "\n",
    "# Évaluation\n",
    "accuracy_pa = accuracy_score(y_test, y_pred)\n",
    "confusion_pa = confusion_matrix(y_test, y_pred)\n",
    "classification_rep_pa = classification_report(y_test, y_pred)\n",
    "\n",
    "print(f\"Précision du Classificateur Passif-Agressif : {accuracy_pa:.2f}\")\n",
    "print(\"Matrice de confusion Classificateur Passif-Agressif :\")\n",
    "print(confusion_pa)\n",
    "print(\"Rapport de classification Classificateur Passif-Agressif :\")\n",
    "print(classification_rep_pa)"
   ]
  },
  {
   "cell_type": "code",
   "execution_count": 27,
   "id": "2c072c00-78db-40e4-ae12-901e9adc6f21",
   "metadata": {},
   "outputs": [],
   "source": [
    "#Régression Logistique"
   ]
  },
  {
   "cell_type": "code",
   "execution_count": 29,
   "id": "3ca0cbce-5797-485e-991f-0ae36e8fcdcd",
   "metadata": {},
   "outputs": [
    {
     "name": "stdout",
     "output_type": "stream",
     "text": [
      "Précision de la Régression Logistique : 0.99\n",
      "Matrice de confusion Régression Logistique :\n",
      "[[4603   47]\n",
      " [  23 4307]]\n",
      "Rapport de classification Régression Logistique :\n",
      "              precision    recall  f1-score   support\n",
      "\n",
      "           0       1.00      0.99      0.99      4650\n",
      "           1       0.99      0.99      0.99      4330\n",
      "\n",
      "    accuracy                           0.99      8980\n",
      "   macro avg       0.99      0.99      0.99      8980\n",
      "weighted avg       0.99      0.99      0.99      8980\n",
      "\n"
     ]
    }
   ],
   "source": [
    "logistic_regression = LogisticRegression(max_iter=1000)\n",
    "logistic_regression.fit(X_train, y_train)\n",
    "\n",
    "y_pred = logistic_regression.predict(X_test)\n",
    "\n",
    "# Évaluation\n",
    "accuracy_lr = accuracy_score(y_test, y_pred)\n",
    "confusion_lr = confusion_matrix(y_test, y_pred)\n",
    "classification_rep_lr = classification_report(y_test, y_pred)\n",
    "\n",
    "print(f\"Précision de la Régression Logistique : {accuracy_lr:.2f}\")\n",
    "print(\"Matrice de confusion Régression Logistique :\")\n",
    "print(confusion_lr)\n",
    "print(\"Rapport de classification Régression Logistique :\")\n",
    "print(classification_rep_lr)"
   ]
  },
  {
   "cell_type": "code",
   "execution_count": 31,
   "id": "7bb4a11f-1d2a-4221-a7d1-353a22298d2f",
   "metadata": {},
   "outputs": [],
   "source": [
    "#Forêt Aléatoire"
   ]
  },
  {
   "cell_type": "code",
   "execution_count": 33,
   "id": "ea60e35c-5a28-4122-aa71-eb2dd9f2d8d0",
   "metadata": {},
   "outputs": [
    {
     "name": "stdout",
     "output_type": "stream",
     "text": [
      "Précision de la Forêt Aléatoire : 1.00\n",
      "Matrice de confusion Forêt Aléatoire :\n",
      "[[4640   10]\n",
      " [  11 4319]]\n",
      "Rapport de classification Forêt Aléatoire :\n",
      "              precision    recall  f1-score   support\n",
      "\n",
      "           0       1.00      1.00      1.00      4650\n",
      "           1       1.00      1.00      1.00      4330\n",
      "\n",
      "    accuracy                           1.00      8980\n",
      "   macro avg       1.00      1.00      1.00      8980\n",
      "weighted avg       1.00      1.00      1.00      8980\n",
      "\n"
     ]
    }
   ],
   "source": [
    "random_forest = RandomForestClassifier()\n",
    "random_forest.fit(X_train, y_train)\n",
    "\n",
    "y_pred = random_forest.predict(X_test)\n",
    "\n",
    "# Évaluation\n",
    "accuracy_rf = accuracy_score(y_test, y_pred)\n",
    "confusion_rf = confusion_matrix(y_test, y_pred)\n",
    "classification_rep_rf = classification_report(y_test, y_pred)\n",
    "\n",
    "print(f\"Précision de la Forêt Aléatoire : {accuracy_rf:.2f}\")\n",
    "print(\"Matrice de confusion Forêt Aléatoire :\")\n",
    "print(confusion_rf)\n",
    "print(\"Rapport de classification Forêt Aléatoire :\")\n",
    "print(classification_rep_rf)"
   ]
  },
  {
   "cell_type": "code",
   "execution_count": 34,
   "id": "a523d2ee-44d5-4d0e-87db-49ef3780ad31",
   "metadata": {},
   "outputs": [
    {
     "name": "stdout",
     "output_type": "stream",
     "text": [
      "Algorithme : Naive Bayes\n",
      "  Précision : 0.94\n",
      "  Rappel : 0.94\n",
      "  F1 Score : 0.94\n",
      "\n",
      "Algorithme : Arbre de Décision\n",
      "  Précision : 1.00\n",
      "  Rappel : 1.00\n",
      "  F1 Score : 1.00\n",
      "\n",
      "Algorithme : Classificateur Passif-Agressif\n",
      "  Précision : 1.00\n",
      "  Rappel : 1.00\n",
      "  F1 Score : 1.00\n",
      "\n",
      "Algorithme : Régression Logistique\n",
      "  Précision : 0.99\n",
      "  Rappel : 0.99\n",
      "  F1 Score : 0.99\n",
      "\n",
      "Algorithme : Forêt Aléatoire\n",
      "  Précision : 1.00\n",
      "  Rappel : 1.00\n",
      "  F1 Score : 1.00\n",
      "\n"
     ]
    }
   ],
   "source": [
    "# Comparer les performances des modèles\n",
    "algorithmes = ['Naive Bayes', 'Arbre de Décision', 'Classificateur Passif-Agressif', 'Régression Logistique', 'Forêt Aléatoire']\n",
    "précisions = [accuracy, accuracy_tree, accuracy_pa, accuracy_lr, accuracy_rf]\n",
    "rappels = [recall_score(y_test, naive_bayes_model.predict(X_test)),\n",
    "           recall_score(y_test, decision_tree.predict(X_test)),\n",
    "           recall_score(y_test, passive_aggressive.predict(X_test)),\n",
    "           recall_score(y_test, logistic_regression.predict(X_test)),\n",
    "           recall_score(y_test, random_forest.predict(X_test))]\n",
    "f1_scores = [f1_score(y_test, naive_bayes_model.predict(X_test)),\n",
    "             f1_score(y_test, decision_tree.predict(X_test)),\n",
    "             f1_score(y_test, passive_aggressive.predict(X_test)),\n",
    "             f1_score(y_test, logistic_regression.predict(X_test)),\n",
    "             f1_score(y_test, random_forest.predict(X_test))]\n",
    "\n",
    "# Afficher les résultats\n",
    "for algo, precision, recall, f1 in zip(algorithmes, précisions, rappels, f1_scores):\n",
    "    print(f\"Algorithme : {algo}\")\n",
    "    print(f\"  Précision : {precision:.2f}\")\n",
    "    print(f\"  Rappel : {recall:.2f}\")\n",
    "    print(f\"  F1 Score : {f1:.2f}\")\n",
    "    print()"
   ]
  },
  {
   "cell_type": "code",
   "execution_count": 37,
   "id": "feec3369-af4d-4fd7-a74d-e4e8249e5af2",
   "metadata": {},
   "outputs": [
    {
     "name": "stdout",
     "output_type": "stream",
     "text": [
      "Prédiction pour le titre 'Le changement climatique s'accélère, les scientifiques alertent sur une catastrophe imminente' : Vrai\n"
     ]
    }
   ],
   "source": [
    "def prédire_titre(titre_texte):\n",
    "    titre_tfidf = tfidf_vectorizer.transform([titre_texte])\n",
    "    prédiction = naive_bayes_model.predict(titre_tfidf)\n",
    "    return \"Vrai\" if prédiction[0] == 1 else \"Faux\"\n",
    "\n",
    "# Exemple de prédiction\n",
    "exemple_titre = \"Le changement climatique s'accélère, les scientifiques alertent sur une catastrophe imminente\"\n",
    "print(f\"Prédiction pour le titre '{exemple_titre}' : {prédire_titre(exemple_titre)}\")\n"
   ]
  },
  {
   "cell_type": "code",
   "execution_count": 39,
   "id": "447ea9d8-594c-4e47-9e75-a079b9aa58fc",
   "metadata": {},
   "outputs": [
    {
     "name": "stdout",
     "output_type": "stream",
     "text": [
      "Prédiction pour le titre 'La NASA confirme que la Terre sera plongée dans 15 jours de noir total en raison d'une tempête solaire' : Faux\n"
     ]
    }
   ],
   "source": [
    "\n",
    "# Exemple de prédiction\n",
    "exemple_titre = \"La NASA confirme que la Terre sera plongée dans 15 jours de noir total en raison d'une tempête solaire\"\n",
    "print(f\"Prédiction pour le titre '{exemple_titre}' : {prédire_titre(exemple_titre)}\")"
   ]
  },
  {
   "cell_type": "code",
   "execution_count": 41,
   "id": "c5cbd1df-d19d-402d-9307-c5c5a360f07e",
   "metadata": {},
   "outputs": [
    {
     "name": "stdout",
     "output_type": "stream",
     "text": [
      "Prédiction pour le titre 'Un astéroïde géant détruira la Terre dans un mois, préviennent les experts' : Faux\n"
     ]
    }
   ],
   "source": [
    "# Exemple de prédiction\n",
    "exemple_titre = \"Un astéroïde géant détruira la Terre dans un mois, préviennent les experts\"\n",
    "print(f\"Prédiction pour le titre '{exemple_titre}' : {prédire_titre(exemple_titre)}\")"
   ]
  },
  {
   "cell_type": "code",
   "execution_count": 43,
   "id": "9f807a2b-05f3-4e8d-a4e4-773ebd48926c",
   "metadata": {},
   "outputs": [
    {
     "name": "stdout",
     "output_type": "stream",
     "text": [
      "Prédiction pour le titre 'Avec l’hiver et le printemps froids que l’on vient de subir, on parle encore de réchauffement climatique !? ' : Faux\n"
     ]
    }
   ],
   "source": [
    "# Exemple de prédiction\n",
    "exemple_titre = \"Avec l’hiver et le printemps froids que l’on vient de subir, on parle encore de réchauffement climatique !? \"\n",
    "print(f\"Prédiction pour le titre '{exemple_titre}' : {prédire_titre(exemple_titre)}\")"
   ]
  },
  {
   "cell_type": "code",
   "execution_count": 45,
   "id": "68ec78c9-179a-422c-8523-f01f03d62887",
   "metadata": {},
   "outputs": [
    {
     "name": "stdout",
     "output_type": "stream",
     "text": [
      "Prédiction pour le titre 'Les Extraterrestres Ont Débarqué en Secret dans le Désert du Nevada ' : Faux\n"
     ]
    }
   ],
   "source": [
    "# Exemple de prédiction\n",
    "exemple_titre = \"Les Extraterrestres Ont Débarqué en Secret dans le Désert du Nevada \"\n",
    "print(f\"Prédiction pour le titre '{exemple_titre}' : {prédire_titre(exemple_titre)}\")"
   ]
  },
  {
   "cell_type": "code",
   "execution_count": 47,
   "id": "0bd374f2-0158-4f62-9f95-94d04f35254d",
   "metadata": {},
   "outputs": [
    {
     "name": "stdout",
     "output_type": "stream",
     "text": [
      "Prédiction pour le titre 'Un Remède Miracle Découvert pour Guérir Toutes les Maladies en Une Semaine' : Faux\n"
     ]
    }
   ],
   "source": [
    "# Exemple de prédiction\n",
    "exemple_titre = \"Un Remède Miracle Découvert pour Guérir Toutes les Maladies en Une Semaine\"\n",
    "print(f\"Prédiction pour le titre '{exemple_titre}' : {prédire_titre(exemple_titre)}\")"
   ]
  },
  {
   "cell_type": "code",
   "execution_count": 49,
   "id": "c86fccb5-83d5-4b37-a7de-dbfa2aa657a6",
   "metadata": {},
   "outputs": [
    {
     "name": "stdout",
     "output_type": "stream",
     "text": [
      "Prédiction pour le titre 'Des Espèces Maritimes Géantes Découvertes dans le Lac Tahoe ' : Vrai\n"
     ]
    }
   ],
   "source": [
    "# Exemple de prédiction\n",
    "exemple_titre = \"Des Espèces Maritimes Géantes Découvertes dans le Lac Tahoe \"\n",
    "print(f\"Prédiction pour le titre '{exemple_titre}' : {prédire_titre(exemple_titre)}\")"
   ]
  },
  {
   "cell_type": "code",
   "execution_count": 51,
   "id": "051ec393-32d7-4700-b4fe-cd4571e13f99",
   "metadata": {},
   "outputs": [
    {
     "name": "stdout",
     "output_type": "stream",
     "text": [
      "Prédiction pour le titre 'Les Célébrités Sont Entrain de Quitter la Terre pour Une Nouvelle Planète Habitable' : Faux\n"
     ]
    }
   ],
   "source": [
    "# Exemple de prédiction\n",
    "exemple_titre = \"Les Célébrités Sont Entrain de Quitter la Terre pour Une Nouvelle Planète Habitable\"\n",
    "print(f\"Prédiction pour le titre '{exemple_titre}' : {prédire_titre(exemple_titre)}\")"
   ]
  },
  {
   "cell_type": "code",
   "execution_count": 53,
   "id": "8139b54e-8589-45a0-ae0a-0337d8ece106",
   "metadata": {},
   "outputs": [
    {
     "name": "stdout",
     "output_type": "stream",
     "text": [
      "Prédiction pour le titre 'Les États-Unis Annoncent des Sanctions Économiques Contre un Nouveau Pays ' : Vrai\n"
     ]
    }
   ],
   "source": [
    "# Exemple de prédiction\n",
    "exemple_titre = \"Les États-Unis Annoncent des Sanctions Économiques Contre un Nouveau Pays \"\n",
    "print(f\"Prédiction pour le titre '{exemple_titre}' : {prédire_titre(exemple_titre)}\")"
   ]
  },
  {
   "cell_type": "code",
   "execution_count": 55,
   "id": "c87ab522-8240-4ad1-be5d-b3f6f835daad",
   "metadata": {},
   "outputs": [
    {
     "name": "stdout",
     "output_type": "stream",
     "text": [
      "Prédiction pour le titre 'L'Organisation Mondiale de la Santé Publie un Nouveau Rapport sur la COVID-19' : Faux\n"
     ]
    }
   ],
   "source": [
    "# Exemple de prédiction\n",
    "exemple_titre = \"L'Organisation Mondiale de la Santé Publie un Nouveau Rapport sur la COVID-19\"\n",
    "print(f\"Prédiction pour le titre '{exemple_titre}' : {prédire_titre(exemple_titre)}\")"
   ]
  },
  {
   "cell_type": "code",
   "execution_count": 57,
   "id": "8b316890-1096-4fac-8ea9-5e04b861322e",
   "metadata": {},
   "outputs": [
    {
     "name": "stdout",
     "output_type": "stream",
     "text": [
      "Prédiction pour le titre 'Des Études Récentes Montrent une Réduction de l'Émission de Gaz à Effet de Serre en 2023' : Vrai\n"
     ]
    }
   ],
   "source": [
    "# Exemple de prédiction\n",
    "exemple_titre = \"Des Études Récentes Montrent une Réduction de l'Émission de Gaz à Effet de Serre en 2023\"\n",
    "print(f\"Prédiction pour le titre '{exemple_titre}' : {prédire_titre(exemple_titre)}\")"
   ]
  },
  {
   "cell_type": "code",
   "execution_count": 59,
   "id": "368accdf-fb55-4e2a-8e29-8ed6c2ec0d86",
   "metadata": {},
   "outputs": [
    {
     "name": "stdout",
     "output_type": "stream",
     "text": [
      "Prédiction pour le titre 'Un Accord International Signé pour Lutte Contre la Déforestation en Amazonie' : Vrai\n"
     ]
    }
   ],
   "source": [
    "# Exemple de prédiction\n",
    "exemple_titre = \"Un Accord International Signé pour Lutte Contre la Déforestation en Amazonie\"\n",
    "print(f\"Prédiction pour le titre '{exemple_titre}' : {prédire_titre(exemple_titre)}\")"
   ]
  },
  {
   "cell_type": "code",
   "execution_count": 61,
   "id": "751cddb6-9b14-4bed-9953-66b40d3edbea",
   "metadata": {},
   "outputs": [
    {
     "name": "stdout",
     "output_type": "stream",
     "text": [
      "Prédiction pour le titre 'La NASA Annonce la Découverte d'une Nouvelle Exoplanète Potentiellement Habitable' : Faux\n"
     ]
    }
   ],
   "source": [
    "# Exemple de prédiction\n",
    "exemple_titre = \"La NASA Annonce la Découverte d'une Nouvelle Exoplanète Potentiellement Habitable\"\n",
    "print(f\"Prédiction pour le titre '{exemple_titre}' : {prédire_titre(exemple_titre)}\")"
   ]
  },
  {
   "cell_type": "code",
   "execution_count": 63,
   "id": "610783f8-7223-4dee-9ce1-4c1bebfb5ff7",
   "metadata": {},
   "outputs": [
    {
     "name": "stdout",
     "output_type": "stream",
     "text": [
      "Requirement already satisfied: joblib in c:\\users\\hp\\anaconda3\\lib\\site-packages (1.2.0)\n",
      "Note: you may need to restart the kernel to use updated packages.\n"
     ]
    },
    {
     "name": "stderr",
     "output_type": "stream",
     "text": [
      "WARNING: Ignoring invalid distribution ~atplotlib (C:\\Users\\HP\\anaconda3\\Lib\\site-packages)\n",
      "WARNING: Ignoring invalid distribution ~rotobuf (C:\\Users\\HP\\anaconda3\\Lib\\site-packages)\n",
      "WARNING: Ignoring invalid distribution ~atplotlib (C:\\Users\\HP\\anaconda3\\Lib\\site-packages)\n",
      "WARNING: Ignoring invalid distribution ~rotobuf (C:\\Users\\HP\\anaconda3\\Lib\\site-packages)\n",
      "WARNING: Ignoring invalid distribution ~atplotlib (C:\\Users\\HP\\anaconda3\\Lib\\site-packages)\n",
      "WARNING: Ignoring invalid distribution ~rotobuf (C:\\Users\\HP\\anaconda3\\Lib\\site-packages)\n"
     ]
    }
   ],
   "source": [
    "pip install joblib\n"
   ]
  },
  {
   "cell_type": "code",
   "execution_count": 64,
   "id": "7c95d958-93aa-4507-b6b8-8668f17ec7f7",
   "metadata": {},
   "outputs": [
    {
     "name": "stdout",
     "output_type": "stream",
     "text": [
      "Modèle Naive Bayes enregistré sous 'model_fake_news.pkl'\n"
     ]
    }
   ],
   "source": [
    "import joblib\n",
    "\n",
    "# Enregistrer le modèle Naive Bayes\n",
    "joblib.dump(naive_bayes_model, 'model_fake_news.pkl')\n",
    "print(\"Modèle Naive Bayes enregistré sous 'model_fake_news.pkl'\")\n",
    "\n"
   ]
  },
  {
   "cell_type": "code",
   "execution_count": 67,
   "id": "0ddf9097-f3cc-46f7-bea8-da85f99d0967",
   "metadata": {},
   "outputs": [
    {
     "name": "stdout",
     "output_type": "stream",
     "text": [
      "le modele vectorizer est enregistre avec succes\n"
     ]
    }
   ],
   "source": [
    "import joblib\n",
    "# Sauvegarder le vectoriseur TF-IDF\n",
    "joblib.dump(tfidf_vectorizer, 'vectorizer.pkl')\n",
    "print(\"le modele vectorizer est enregistre avec succes\")"
   ]
  },
  {
   "cell_type": "code",
   "execution_count": 69,
   "id": "0eccb19b-7fcd-4026-b99a-217c24684d3e",
   "metadata": {},
   "outputs": [
    {
     "name": "stdout",
     "output_type": "stream",
     "text": [
      "Prédiction pour le titre 'Le changement climatique s'accélère, les scientifiques alertent sur une catastrophe imminente' avec le modèle chargé : Vrai\n"
     ]
    }
   ],
   "source": [
    "# Charger le modèle Naive Bayes\n",
    "naive_bayes_model_loaded = joblib.load('model_fake_news.pkl')\n",
    "\n",
    "# Charger le vectoriseur TF-IDF\n",
    "tfidf_vectorizer_loaded = joblib.load('vectorizer.pkl')\n",
    "\n",
    "# Vérifier la prédiction avec le modèle chargé\n",
    "exemple_titre = \"Le changement climatique s'accélère, les scientifiques alertent sur une catastrophe imminente\"\n",
    "titre_tfidf = tfidf_vectorizer_loaded.transform([exemple_titre])\n",
    "prédiction = naive_bayes_model_loaded.predict(titre_tfidf)\n",
    "\n",
    "# Afficher la prédiction\n",
    "print(f\"Prédiction pour le titre '{exemple_titre}' avec le modèle chargé : {'Vrai' if prédiction[0] == 1 else 'Faux'}\")\n",
    "\n"
   ]
  },
  {
   "cell_type": "code",
   "execution_count": null,
   "id": "e8a7569f-3c85-48e3-8bc4-3a7afeecd6fd",
   "metadata": {},
   "outputs": [],
   "source": []
  }
 ],
 "metadata": {
  "kernelspec": {
   "display_name": "Python 3 (ipykernel)",
   "language": "python",
   "name": "python3"
  },
  "language_info": {
   "codemirror_mode": {
    "name": "ipython",
    "version": 3
   },
   "file_extension": ".py",
   "mimetype": "text/x-python",
   "name": "python",
   "nbconvert_exporter": "python",
   "pygments_lexer": "ipython3",
   "version": "3.11.5"
  },
  "widgets": {
   "application/vnd.jupyter.widget-state+json": {
    "state": {},
    "version_major": 2,
    "version_minor": 0
   }
  }
 },
 "nbformat": 4,
 "nbformat_minor": 5
}
